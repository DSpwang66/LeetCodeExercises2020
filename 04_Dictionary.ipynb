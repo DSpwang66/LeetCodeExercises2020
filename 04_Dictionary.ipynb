{
 "cells": [
  {
   "cell_type": "markdown",
   "metadata": {},
   "source": [
    "## 1. Key Value Switch"
   ]
  },
  {
   "cell_type": "markdown",
   "metadata": {},
   "source": [
    "Build a function **kvSwitch** to switch the keys and values of a dictionary.  \n",
    "Example: kvSwitch({\"a\": 1, \"b\": 2, \"c\": 3}) returns {1: \"a\", 2: \"b\", 3: \"c\"}"
   ]
  },
  {
   "cell_type": "code",
   "execution_count": 20,
   "metadata": {},
   "outputs": [],
   "source": [
    "def kvSwitch(d):\n",
    "    return {v: k for k, v in d.items()}"
   ]
  },
  {
   "cell_type": "code",
   "execution_count": 21,
   "metadata": {},
   "outputs": [
    {
     "data": {
      "text/plain": [
       "{1: 'a', 2: 'b', 3: 'c'}"
      ]
     },
     "execution_count": 21,
     "metadata": {},
     "output_type": "execute_result"
    }
   ],
   "source": [
    "kvSwitch({\"a\":1, \"b\":2, \"c\":3})"
   ]
  },
  {
   "cell_type": "markdown",
   "metadata": {},
   "source": [
    "## 2. Rank Keys by Values"
   ]
  },
  {
   "cell_type": "markdown",
   "metadata": {},
   "source": [
    "Build a function **RankK** which takes a dictionary as input returns a list of keys which sorted by their values.  \n",
    "Example: RankK({\"a\": 7, \"b\": 5, \"c\": 9}) returns [\"b\", \"a\", \"c\"]"
   ]
  },
  {
   "cell_type": "code",
   "execution_count": 30,
   "metadata": {},
   "outputs": [],
   "source": [
    "def RankK(d):\n",
    "    items = sorted(d.items(), key=lambda x: x[-1])\n",
    "    return list(zip(*items)[0])"
   ]
  },
  {
   "cell_type": "code",
   "execution_count": 31,
   "metadata": {},
   "outputs": [
    {
     "data": {
      "text/plain": [
       "['b', 'a', 'c']"
      ]
     },
     "execution_count": 31,
     "metadata": {},
     "output_type": "execute_result"
    }
   ],
   "source": [
    "RankK({\"a\": 7, \"b\": 5, \"c\": 9})"
   ]
  },
  {
   "cell_type": "markdown",
   "metadata": {},
   "source": [
    "## 3. Character Frequency"
   ]
  },
  {
   "cell_type": "markdown",
   "metadata": {},
   "source": [
    "Build a function **ChaFreq** to calculate the frequencies of characters in a string. Store the results in a dictionary.   \n",
    "Example: ChaFreq(\"techlent\") returns {'c': 1, 'e': 2, 'h': 1, 'l': 1, 'n': 1, 't': 2}"
   ]
  },
  {
   "cell_type": "code",
   "execution_count": 3,
   "metadata": {},
   "outputs": [],
   "source": [
    "def ChaFreq(s):\n",
    "    res = {}\n",
    "    for c in s:\n",
    "        if c in res:\n",
    "            res[c] += 1\n",
    "        else:\n",
    "            res[c] = 1\n",
    "    return res"
   ]
  },
  {
   "cell_type": "code",
   "execution_count": 4,
   "metadata": {},
   "outputs": [
    {
     "data": {
      "text/plain": [
       "{'c': 1, 'e': 2, 'h': 1, 'l': 1, 'n': 1, 't': 2}"
      ]
     },
     "execution_count": 4,
     "metadata": {},
     "output_type": "execute_result"
    }
   ],
   "source": [
    "ChaFreq(\"techlent\")"
   ]
  },
  {
   "cell_type": "markdown",
   "metadata": {},
   "source": [
    "## 4. Unique Only"
   ]
  },
  {
   "cell_type": "markdown",
   "metadata": {},
   "source": [
    "Build a function **UniqueOnly** to detect whether a string only contains unique characters.  \n",
    "Example: UniqueOnly(\"techlent\") returns False    \n",
    "Example: UniqueOnly(\"abcde\") returns True"
   ]
  },
  {
   "cell_type": "code",
   "execution_count": 14,
   "metadata": {},
   "outputs": [],
   "source": [
    "def UniqueOnly(s):\n",
    "    tmp = {}\n",
    "    for c in s:\n",
    "        if c in tmp:\n",
    "            return False\n",
    "        else:\n",
    "            tmp[c] = 1\n",
    "    return True"
   ]
  },
  {
   "cell_type": "code",
   "execution_count": 17,
   "metadata": {},
   "outputs": [],
   "source": [
    "def UniqueOnly(s):\n",
    "    return len(s) == len(set(s))"
   ]
  },
  {
   "cell_type": "code",
   "execution_count": 18,
   "metadata": {},
   "outputs": [
    {
     "data": {
      "text/plain": [
       "False"
      ]
     },
     "execution_count": 18,
     "metadata": {},
     "output_type": "execute_result"
    }
   ],
   "source": [
    "UniqueOnly(\"techlent\")"
   ]
  },
  {
   "cell_type": "code",
   "execution_count": 19,
   "metadata": {},
   "outputs": [
    {
     "data": {
      "text/plain": [
       "True"
      ]
     },
     "execution_count": 19,
     "metadata": {},
     "output_type": "execute_result"
    }
   ],
   "source": [
    "UniqueOnly(\"abcde\")"
   ]
  },
  {
   "cell_type": "markdown",
   "metadata": {},
   "source": [
    "## 5. Same Pattern"
   ]
  },
  {
   "cell_type": "markdown",
   "metadata": {},
   "source": [
    "Build a function **SamePattern** takes two strings as inputs and determines whether they are in the same pattern.  \n",
    "Example: SamePattern('egg', 'zoo') returns True   \n",
    "Example: SamePattern('abb', 'ab') returns False   \n",
    "Example: SamePattern('hello', 'agree') returns False  \n",
    "Example: SamePattern('aaa', 'abc') returns False  \n",
    "Example: SamePattern('abc', 'aaa') returns False  "
   ]
  },
  {
   "cell_type": "code",
   "execution_count": 8,
   "metadata": {},
   "outputs": [],
   "source": [
    "def SamePattern(s1, s2):\n",
    "    if len(s1) != len(s2):\n",
    "        return False\n",
    "    d1 = {}\n",
    "    d2 = {}\n",
    "    for i in range(len(s1)):\n",
    "        if s1[i] in d1:\n",
    "            if d1[s1[i]] != s2[i]:\n",
    "                return False\n",
    "        else:\n",
    "            d1[s1[i]] = s2[i]\n",
    "            \n",
    "        if s2[i] in d2:\n",
    "            if d2[s2[i]] != s1[i]:\n",
    "                return False\n",
    "        else:\n",
    "            d2[s2[i]] = s1[i]\n",
    "    return True"
   ]
  },
  {
   "cell_type": "code",
   "execution_count": 9,
   "metadata": {},
   "outputs": [
    {
     "data": {
      "text/plain": [
       "True"
      ]
     },
     "execution_count": 9,
     "metadata": {},
     "output_type": "execute_result"
    }
   ],
   "source": [
    "SamePattern('egg', 'zoo')"
   ]
  },
  {
   "cell_type": "code",
   "execution_count": 10,
   "metadata": {},
   "outputs": [
    {
     "data": {
      "text/plain": [
       "False"
      ]
     },
     "execution_count": 10,
     "metadata": {},
     "output_type": "execute_result"
    }
   ],
   "source": [
    "SamePattern('abb', 'ab')"
   ]
  },
  {
   "cell_type": "code",
   "execution_count": 11,
   "metadata": {},
   "outputs": [
    {
     "data": {
      "text/plain": [
       "False"
      ]
     },
     "execution_count": 11,
     "metadata": {},
     "output_type": "execute_result"
    }
   ],
   "source": [
    "SamePattern('hello', 'agree')"
   ]
  },
  {
   "cell_type": "code",
   "execution_count": 12,
   "metadata": {},
   "outputs": [
    {
     "data": {
      "text/plain": [
       "False"
      ]
     },
     "execution_count": 12,
     "metadata": {},
     "output_type": "execute_result"
    }
   ],
   "source": [
    "SamePattern('aaa', 'abc')"
   ]
  },
  {
   "cell_type": "code",
   "execution_count": 13,
   "metadata": {},
   "outputs": [
    {
     "data": {
      "text/plain": [
       "False"
      ]
     },
     "execution_count": 13,
     "metadata": {},
     "output_type": "execute_result"
    }
   ],
   "source": [
    "SamePattern('abc', 'aaa')"
   ]
  },
  {
   "cell_type": "markdown",
   "metadata": {},
   "source": [
    "## 6. Anagrams"
   ]
  },
  {
   "cell_type": "markdown",
   "metadata": {},
   "source": [
    "Build a function **anagrams** to determine whether two given strings are anagrams.   \n",
    "Example: anagrams('abc', 'cba') returns True   \n",
    "Example: anagrams('ab', 'abc') returns False   \n",
    "Example: anagrams('abccba', 'aabbbc') returns False"
   ]
  },
  {
   "cell_type": "code",
   "execution_count": 1,
   "metadata": {},
   "outputs": [],
   "source": [
    "def anagrams(s1, s2):\n",
    "    return sorted(s1) == sorted(s2)"
   ]
  },
  {
   "cell_type": "code",
   "execution_count": 37,
   "metadata": {},
   "outputs": [],
   "source": [
    "def anagrams(s1, s2):\n",
    "    d1 = {}\n",
    "    for c in s1:\n",
    "        if c in d1:\n",
    "            d1[c] += 1\n",
    "        else:\n",
    "            d1[c] = 1\n",
    "    for c in s2:\n",
    "        if c in d1 and d1[c] > 0:\n",
    "            d1[c] -= 1\n",
    "        else:\n",
    "            return False       \n",
    "    return True"
   ]
  },
  {
   "cell_type": "code",
   "execution_count": 38,
   "metadata": {},
   "outputs": [
    {
     "data": {
      "text/plain": [
       "True"
      ]
     },
     "execution_count": 38,
     "metadata": {},
     "output_type": "execute_result"
    }
   ],
   "source": [
    "anagrams('abc', 'cba') "
   ]
  },
  {
   "cell_type": "code",
   "execution_count": 39,
   "metadata": {},
   "outputs": [
    {
     "data": {
      "text/plain": [
       "False"
      ]
     },
     "execution_count": 39,
     "metadata": {},
     "output_type": "execute_result"
    }
   ],
   "source": [
    "anagrams('ab', 'abc')"
   ]
  },
  {
   "cell_type": "code",
   "execution_count": 2,
   "metadata": {},
   "outputs": [
    {
     "data": {
      "text/plain": [
       "False"
      ]
     },
     "execution_count": 2,
     "metadata": {},
     "output_type": "execute_result"
    }
   ],
   "source": [
    "anagrams('abccba', 'aabbbc') "
   ]
  },
  {
   "cell_type": "markdown",
   "metadata": {},
   "source": [
    "## 7. Target Sum"
   ]
  },
  {
   "cell_type": "markdown",
   "metadata": {},
   "source": [
    "Build a function **TargetSum** which takes a list and a target number as inputs. If there are two numbers in the list whose sum equals to the target number, the function returns the indice of the two numbers, otherwise returns -1.  \n",
    "Example: TargetDiff([1, 2, 5, 9, 8, 11], 6) returns 0, 2 [*1+5=6*]  \n",
    "Example: TargetDiff([1, 2, 5, 9, 8, 11], 11) returns 1, 3  \n",
    "Example: TargetDiff([1, 2, 5, 9, 8, 11], 5) returns -1  \n",
    "Example: TargetDiff([1, 2, 5, 9, 8, 11], 14) returns -1"
   ]
  },
  {
   "cell_type": "code",
   "execution_count": 41,
   "metadata": {},
   "outputs": [],
   "source": [
    "def TargetDiff(nums, target):\n",
    "    tmp = {}\n",
    "    for i in range(len(nums)):\n",
    "        if nums[i] in tmp:\n",
    "            return tmp[nums[i]], i\n",
    "        else:\n",
    "            tmp[target - nums[i]] = i\n",
    "    return -1"
   ]
  },
  {
   "cell_type": "code",
   "execution_count": 42,
   "metadata": {},
   "outputs": [
    {
     "data": {
      "text/plain": [
       "(0, 2)"
      ]
     },
     "execution_count": 42,
     "metadata": {},
     "output_type": "execute_result"
    }
   ],
   "source": [
    "TargetDiff([1, 2, 5, 9, 8, 11], 6)"
   ]
  },
  {
   "cell_type": "code",
   "execution_count": 43,
   "metadata": {},
   "outputs": [
    {
     "data": {
      "text/plain": [
       "(1, 3)"
      ]
     },
     "execution_count": 43,
     "metadata": {},
     "output_type": "execute_result"
    }
   ],
   "source": [
    "TargetDiff([1, 2, 5, 9, 8, 11], 11)"
   ]
  },
  {
   "cell_type": "code",
   "execution_count": 44,
   "metadata": {},
   "outputs": [
    {
     "data": {
      "text/plain": [
       "-1"
      ]
     },
     "execution_count": 44,
     "metadata": {},
     "output_type": "execute_result"
    }
   ],
   "source": [
    "TargetDiff([1, 2, 5, 9, 8, 11], 5)"
   ]
  },
  {
   "cell_type": "code",
   "execution_count": 45,
   "metadata": {},
   "outputs": [
    {
     "data": {
      "text/plain": [
       "(2, 3)"
      ]
     },
     "execution_count": 45,
     "metadata": {},
     "output_type": "execute_result"
    }
   ],
   "source": [
    "TargetDiff([1, 2, 5, 9, 8, 11], 14)"
   ]
  },
  {
   "cell_type": "code",
   "execution_count": null,
   "metadata": {},
   "outputs": [],
   "source": []
  }
 ],
 "metadata": {
  "kernelspec": {
   "display_name": "Python 3",
   "language": "python",
   "name": "python3"
  },
  "language_info": {
   "codemirror_mode": {
    "name": "ipython",
    "version": 3
   },
   "file_extension": ".py",
   "mimetype": "text/x-python",
   "name": "python",
   "nbconvert_exporter": "python",
   "pygments_lexer": "ipython3",
   "version": "3.7.3"
  }
 },
 "nbformat": 4,
 "nbformat_minor": 2
}
