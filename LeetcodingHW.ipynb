{
 "cells": [
  {
   "cell_type": "markdown",
   "metadata": {},
   "source": [
    "Open an account on www.leetcode.com, if you haven't gotten one. Find the questions using the links below. Paste your solutions to this notebook. Make sure your solution can pass all the test cases on Leetcode."
   ]
  },
  {
   "cell_type": "markdown",
   "metadata": {},
   "source": [
    "## 1. Binary Search"
   ]
  },
  {
   "cell_type": "markdown",
   "metadata": {},
   "source": [
    "[Binary Search](https://leetcode.com/problems/binary-search/submissions/)\n",
    "\n",
    "Given a sorted (in ascending order) integer array nums of n elements and a target value, write a function to search target in nums. If target exists, then return its index, otherwise return -1."
   ]
  },
  {
   "cell_type": "code",
   "execution_count": 129,
   "metadata": {},
   "outputs": [
    {
     "name": "stdout",
     "output_type": "stream",
     "text": [
      "5\n",
      "5\n"
     ]
    }
   ],
   "source": [
    "class Solution:\n",
    "    #def search_v2(self, nums: list[int], target: int) -> int:\n",
    "\n",
    "#Time complexity ~ O(n)\n",
    "#Space complexity ~ O(1)\n",
    "    def search(self, nums, target):\n",
    "        for i in range(len(nums)):\n",
    "            if nums[i] == target:\n",
    "                return (i)\n",
    "        return(-1)\n",
    "\n",
    "    \n",
    "#Time complexity ~ O(log(n))\n",
    "    def search_v2(self, nums, target) :\n",
    "        lower = 0\n",
    "        higher = len(nums)-1\n",
    "        while higher >= lower:\n",
    "            if nums[lower] == target:\n",
    "                return(lower)\n",
    "            elif nums[lower] < target:\n",
    "                if nums[higher] == target:\n",
    "                    return (higher)\n",
    "                elif nums[higher] > target:\n",
    "                    mid = (lower+higher)//2\n",
    "                    if nums[mid] == target:\n",
    "                        return(mid)\n",
    "                    elif nums[mid] > target:\n",
    "                        higher = mid\n",
    "                    else:\n",
    "                        lower = mid                   \n",
    "            else: \n",
    "                return (-1)\n",
    "        return(-1)\n",
    "\n",
    "s = Solution()\n",
    "print(s.search([-1,0,3,4,5,9,12,15],  9))\n",
    "print(s.search_v2([-1,0,3,4,5,9,12,15],  9))\n",
    "    "
   ]
  },
  {
   "cell_type": "markdown",
   "metadata": {},
   "source": [
    "<font color='red'>Question</font>: What is time complexity?"
   ]
  },
  {
   "cell_type": "markdown",
   "metadata": {},
   "source": [
    "Time complexity of an algorithm quantifies the amount of time taken by an algorithm to run as a function of the length of the input. Similarly, Space complexity of an algorithm quantifies the amount of space or memory taken by an algorithm to run as a function of the length of the input."
   ]
  },
  {
   "cell_type": "markdown",
   "metadata": {},
   "source": [
    "<font color='red'>Question</font>: What the time complexity of binary search?"
   ]
  },
  {
   "cell_type": "code",
   "execution_count": null,
   "metadata": {},
   "outputs": [],
   "source": [
    "O(n)"
   ]
  },
  {
   "cell_type": "markdown",
   "metadata": {},
   "source": [
    "<font color='red'>Question</font>: What is Big O Notation?"
   ]
  },
  {
   "cell_type": "code",
   "execution_count": null,
   "metadata": {},
   "outputs": [],
   "source": [
    "the order of"
   ]
  },
  {
   "cell_type": "markdown",
   "metadata": {},
   "source": [
    "<font color='red'>Question</font>: What is the time complexity for a sorting algorithm?"
   ]
  },
  {
   "cell_type": "markdown",
   "metadata": {},
   "source": [
    "O(n^2)"
   ]
  },
  {
   "cell_type": "markdown",
   "metadata": {},
   "source": [
    "[Insert Position](https://leetcode.com/problems/search-insert-position/)\n",
    "\n",
    "Given a sorted array and a target value, return the index if the target is found. If not, return the index where it would be if it were inserted in order."
   ]
  },
  {
   "cell_type": "code",
   "execution_count": 25,
   "metadata": {},
   "outputs": [
    {
     "name": "stdout",
     "output_type": "stream",
     "text": [
      "0\n",
      "8\n",
      "5\n",
      "6\n"
     ]
    }
   ],
   "source": [
    "class Solution2:\n",
    "    #def searchInsert(self, nums: List[int], target: int) -> int:\n",
    "    def searchInsert(self, nums, target):\n",
    "        if nums[0]> target:\n",
    "            index = 0\n",
    "        elif nums[-1] < target:\n",
    "            index = len(nums)\n",
    "        else:\n",
    "            for i in range(len(nums)):\n",
    "                if nums[i] < target and nums[i+1] > target :\n",
    "                    index = i+1\n",
    "                elif nums[i] == target:\n",
    "                    index = i\n",
    "        return(index)\n",
    "        \n",
    "s2 = Solution2()\n",
    "print(s2.searchInsert([-1,0,3,4,5,9,12,15],  -9))\n",
    "print(s2.searchInsert([-1,0,3,4,5,9,12,15],  19))\n",
    "print(s2.searchInsert([-1,0,3,4,5,9,12,15],  9))\n",
    "print(s2.searchInsert([-1,0,3,4,5,9,12,15],  10))\n",
    "        "
   ]
  },
  {
   "cell_type": "markdown",
   "metadata": {},
   "source": [
    "[Sqrt(X)](https://leetcode.com/problems/sqrtx/)  Implement int sqrt(int x).\n",
    "\n",
    "Compute and return the square root of x, where x is guaranteed to be a non-negative integer.\n",
    "\n",
    "Since the return type is an integer, the decimal digits are truncated and only the integer part of the result is returned."
   ]
  },
  {
   "cell_type": "code",
   "execution_count": 35,
   "metadata": {},
   "outputs": [
    {
     "name": "stdout",
     "output_type": "stream",
     "text": [
      "0\n",
      "1\n",
      "1\n",
      "2\n",
      "3\n",
      "error\n"
     ]
    }
   ],
   "source": [
    "class Solution69:\n",
    "    #def mySqrt(self, x: int) -> int:\n",
    "    def mySqrt(self, x):\n",
    "        if x ==0:\n",
    "            return 0\n",
    "        elif x == 1:\n",
    "            return 1\n",
    "        else:\n",
    "            lower = 1\n",
    "            higher = x//2 + 1\n",
    "            for i in range(lower, higher):\n",
    "                if i*i <= x and (i+1)*(i+1)> x :\n",
    "                    return i\n",
    "            return 'error'\n",
    "        \n",
    "s69 = Solution69()\n",
    "print(s69.mySqrt(0))\n",
    "print(s69.mySqrt(1))\n",
    "print(s69.mySqrt(2))\n",
    "print(s69.mySqrt(4))\n",
    "print(s69.mySqrt(9))\n",
    "print(s69.mySqrt(-19))"
   ]
  },
  {
   "cell_type": "markdown",
   "metadata": {},
   "source": [
    "[First Bad Version](https://leetcode.com/problems/first-bad-version/)  278. First Bad Version\n",
    "\n",
    "You are a product manager and currently leading a team to develop a new product. Unfortunately, the latest version of your product fails the quality check. Since each version is developed based on the previous version, all the versions after a bad version are also bad.\n",
    "\n",
    "Suppose you have n versions [1, 2, ..., n] and you want to find out the first bad one, which causes all the following ones to be bad.\n",
    "\n",
    "You are given an API bool isBadVersion(version) which will return whether version is bad. Implement a function to find the first bad version. You should minimize the number of calls to the API.\n",
    "\n",
    "    def firstBadVersion(self, n):\n",
    "        \"\"\"\n",
    "        :type n: int\n",
    "        :rtype: int\n",
    "        \"\"\""
   ]
  },
  {
   "cell_type": "code",
   "execution_count": null,
   "metadata": {},
   "outputs": [],
   "source": [
    "class Solution278:\n",
    "    #def mySqrt(self, x: int) -> int:\n",
    "    def firstBadVersion(self, n):\n",
    "        lower = 1\n",
    "        higher = n\n",
    "        while higher - lower > 1:\n",
    "            mid = (lower + higher)//2 + 1\n",
    "            if isBadVersion(mid) = 1:\n",
    "                higher = mid                \n",
    "            else:\n",
    "                lower = mid\n",
    "        return higher        \n",
    "            \n",
    "s278 = Solution278()\n",
    "print(s278.firstBadVersion(7))"
   ]
  },
  {
   "cell_type": "markdown",
   "metadata": {},
   "source": [
    "## 2. Two Pointers"
   ]
  },
  {
   "cell_type": "markdown",
   "metadata": {},
   "source": [
    "[283. Move Zeroes](https://leetcode.com/problems/move-zeroes/)\n",
    "\n",
    "Given an array nums, write a function to move all 0's to the end of it while maintaining the relative order of the non-zero elements. \n",
    "\n",
    "def moveZeroes(self, nums: List[int]) -> None:"
   ]
  },
  {
   "cell_type": "code",
   "execution_count": 1,
   "metadata": {},
   "outputs": [
    {
     "name": "stdout",
     "output_type": "stream",
     "text": [
      "[-1, 3, 4, 5, 9, 12, 15, 0, 0]\n",
      "[-1, 3, 4, 5, 9, 12, 15, 0, 0]\n"
     ]
    }
   ],
   "source": [
    "class Solution283:\n",
    "    #def moveZeroes(self, nums: List[int]) -> None:\n",
    "    def moveZeroes(self, nums):\n",
    "        for i in range(len(nums)-1):\n",
    "            if nums[i] == 0:\n",
    "                for j in range(i, len(nums)-1):\n",
    "                    nums = self.numsSwap(j, j+1, nums)\n",
    "        return nums\n",
    "\n",
    "    def numsSwap(self, j, k, nums):\n",
    "        c = nums[k]\n",
    "        nums[k] = nums[j]\n",
    "        nums[j] = c\n",
    "        return nums\n",
    "\n",
    "    \n",
    "## another much simpler way. Note that pop() ~ O(k)    \n",
    "    def moveZeroes_V2(self, nums):\n",
    "        for i in range(len(nums)-1):\n",
    "            if nums[i] == 0:\n",
    "                nums.pop(i)\n",
    "                nums.append(0)\n",
    "        return nums\n",
    "\n",
    "s283 = Solution283()\n",
    "print(s283.moveZeroes([-1,0,3,4,5,9,0,12,15]))\n",
    "print(s283.moveZeroes_V2([-1,0,3,4,5,9,0,12,15]))"
   ]
  },
  {
   "cell_type": "markdown",
   "metadata": {},
   "source": [
    "<font color='red'>Question</font>: What the time complexity of your solution?"
   ]
  },
  {
   "cell_type": "code",
   "execution_count": null,
   "metadata": {},
   "outputs": [],
   "source": [
    "O(n^2)"
   ]
  },
  {
   "cell_type": "markdown",
   "metadata": {},
   "source": [
    "[27. Remove Element](https://leetcode.com/problems/remove-element/)\n",
    "\n",
    "Given an array nums and a value val, remove all instances of that value in-place and return the new length.\n",
    "\n",
    "Do not allocate extra space for another array, you must do this by modifying the input array in-place with O(1) extra memory.\n",
    "\n",
    "The order of elements can be changed. It doesn't matter what you leave beyond the new length."
   ]
  },
  {
   "cell_type": "code",
   "execution_count": 8,
   "metadata": {},
   "outputs": [
    {
     "name": "stdout",
     "output_type": "stream",
     "text": [
      "7\n"
     ]
    }
   ],
   "source": [
    "class Solution27:\n",
    "    #def removeElement(self, nums: List[int], val: int) -> int:\n",
    "    def removeElement(self, nums, val) :\n",
    "#        match = 0\n",
    "        i = 0\n",
    "        while i < len(nums):\n",
    "            if nums[i] == val:\n",
    "#                match += 1\n",
    "                nums.pop(i)\n",
    "            else:\n",
    "                i += 1\n",
    "        x = len(nums)\n",
    "        return (x)\n",
    "        \n",
    "        \n",
    "s27 = Solution27()        \n",
    "print(s27.removeElement([-1,0,3,4,5,9,0,12,15], 0))        "
   ]
  },
  {
   "cell_type": "markdown",
   "metadata": {},
   "source": [
    "<font color='red'>Question</font>: What the space complexity?"
   ]
  },
  {
   "cell_type": "code",
   "execution_count": null,
   "metadata": {},
   "outputs": [],
   "source": [
    "O(1)"
   ]
  },
  {
   "cell_type": "markdown",
   "metadata": {},
   "source": [
    "[Reverse Vowels](https://leetcode.com/problems/reverse-vowels-of-a-string/)\n",
    "\n",
    "345. Reverse Vowels of a String\n",
    "Write a function that takes a string as input and reverse only the vowels of a string.  Example 1:\n",
    "\n",
    "Input: \"hello\"\n",
    "Output: \"holle\""
   ]
  },
  {
   "cell_type": "code",
   "execution_count": 36,
   "metadata": {},
   "outputs": [
    {
     "name": "stdout",
     "output_type": "stream",
     "text": [
      "['e', 'o', 'o'] [1, 4, 7] ['e', 'e', 'a'] [20, 19, 16]\n"
     ]
    },
    {
     "data": {
      "text/plain": [
       "'helle warld at lorgoe'"
      ]
     },
     "execution_count": 36,
     "metadata": {},
     "output_type": "execute_result"
    }
   ],
   "source": [
    "class Solution345:\n",
    "    #def reverseVowels(self, s: str) -> str:\n",
    "    def reverseVowels(self, s) :\n",
    "        vowel_front = []\n",
    "        position_front =[]\n",
    "        vowel_back = []\n",
    "        position_back =[]\n",
    "        i_front = 0\n",
    "        i_back = len(s)-1\n",
    "        back_flag = 1\n",
    "        front_flag = 1\n",
    "        vowel_set = ('a', 'e', 'i', 'o', 'u')\n",
    "        while i_front <= i_back -2 :\n",
    "            if s[i_front] in vowel_set and front_flag == 1:\n",
    "                vowel_front.append(s[i_front])\n",
    "                position_front.append(i_front)\n",
    "            if s[i_back] in vowel_set and back_flag == 1:\n",
    "                vowel_back.append(s[i_back])\n",
    "                position_back.append(i_back)\n",
    "            if len(vowel_front) > len(vowel_back):  # to search in the back\n",
    "                front_flag = 0\n",
    "                back_flag = 1\n",
    "                i_back -= 1\n",
    "            elif len(vowel_front) < len(vowel_back): # to search in the front\n",
    "                front_flag = 1\n",
    "                i_front += 1\n",
    "                back_flag = 0\n",
    "            else: # to search from both end:\n",
    "                back_flag = 1\n",
    "                i_back -= 1\n",
    "                front_flag = 1\n",
    "                i_front += 1\n",
    "            \n",
    "        print (vowel_front , position_front, vowel_back, position_back)\n",
    "        \n",
    "        s_list = list(s)\n",
    "        for i in range(min(len(vowel_front), len(vowel_back))):\n",
    "            s_list[position_front[i]] = vowel_back[i]\n",
    "            s_list[position_back[i]] = vowel_front[i]\n",
    "\n",
    "        return ''.join(s_list)\n",
    "        \n",
    "s345 = Solution345()        \n",
    "s345.reverseVowels('hello world at largee')           \n",
    "        "
   ]
  },
  {
   "cell_type": "markdown",
   "metadata": {},
   "source": [
    "[Two Sum II](https://leetcode.com/problems/two-sum-ii-input-array-is-sorted/)\n",
    "\n",
    "167. Two Sum II - Input array is sorted\n",
    "\n",
    "Given an array of integers that is already sorted in ascending order, find two numbers such that they add up to a specific target number.\n",
    "\n",
    "The function twoSum should return indices of the two numbers such that they add up to the target, where index1 must be less than index2.\n",
    "\n",
    "Note:\n",
    "\n",
    "Your returned answers (both index1 and index2) are not zero-based.\n",
    "You may assume that each input would have exactly one solution and you may not use the same element twice."
   ]
  },
  {
   "cell_type": "code",
   "execution_count": 39,
   "metadata": {},
   "outputs": [
    {
     "data": {
      "text/plain": [
       "(1, 4)"
      ]
     },
     "execution_count": 39,
     "metadata": {},
     "output_type": "execute_result"
    }
   ],
   "source": [
    "class Solution167:\n",
    "    #def twoSum(self, numbers: List[int], target: int) -> List[int]:\n",
    "    def twoSum(self, numbers, target):\n",
    "        d = {}\n",
    "        for i in range (len(numbers)):\n",
    "            if numbers[i] in d:\n",
    "                return(d[numbers[i]], i)\n",
    "            else:\n",
    "                d[target - numbers[i]] = i\n",
    "        return \"found nothing!\"\n",
    "        \n",
    "s167 = Solution167()        \n",
    "s167.twoSum([1,2,4,6,7,11,15], 9)     "
   ]
  },
  {
   "cell_type": "markdown",
   "metadata": {},
   "source": [
    "[Three Sum](https://leetcode.com/problems/3sum/) (Optional)\n",
    "\n",
    "15. 3Sum\n",
    "Given an array nums of n integers, are there elements a, b, c in nums such that a + b + c = 0? Find all unique triplets in the array which gives the sum of zero.\n",
    "\n",
    "Note:\n",
    "\n",
    "The solution set must not contain duplicate triplets."
   ]
  },
  {
   "cell_type": "code",
   "execution_count": 42,
   "metadata": {},
   "outputs": [
    {
     "data": {
      "text/plain": [
       "[[1, 2, 3], [2, 4, 5]]"
      ]
     },
     "execution_count": 42,
     "metadata": {},
     "output_type": "execute_result"
    }
   ],
   "source": [
    "class Solution15:\n",
    "    #def threeSum(self, nums: List[int]) -> List[List[int]]:\n",
    "    def threeSum(self, nums) :\n",
    "        result =[]\n",
    "        for i1 in range(len(nums)):\n",
    "            for i2 in range(i1+1,len(nums)):\n",
    "                for i3 in range(i2+1, len(nums)):\n",
    "                    if nums[i1]+nums[i2]+nums[i3] == 0:\n",
    "                        result.append ([i1, i2, i3])\n",
    "                        \n",
    "        return result\n",
    "    \n",
    "s15 = Solution15()        \n",
    "s15.threeSum([1,2,4,-6,7,-11,15])             "
   ]
  },
  {
   "cell_type": "markdown",
   "metadata": {},
   "source": [
    "[Three Sum Closest](https://leetcode.com/problems/3sum-closest/) (Optional)\n",
    "\n",
    "16. 3Sum Closest\n",
    "\n",
    "Given an array nums of n integers and an integer target, find three integers in nums such that the sum is closest to target. Return the sum of the three integers. You may assume that each input would have exactly one solution.\n",
    "\n",
    "Example:\n",
    "\n",
    "Given array nums = [-1, 2, 1, -4], and target = 1.\n",
    "\n",
    "The sum that is closest to the target is 2. (-1 + 2 + 1 = 2)."
   ]
  },
  {
   "cell_type": "code",
   "execution_count": 47,
   "metadata": {},
   "outputs": [
    {
     "name": "stdout",
     "output_type": "stream",
     "text": [
      "[0, 5, 6] 1\n"
     ]
    },
    {
     "data": {
      "text/plain": [
       "1"
      ]
     },
     "execution_count": 47,
     "metadata": {},
     "output_type": "execute_result"
    }
   ],
   "source": [
    "class Solution16:\n",
    "    #def threeSumClosest(self, nums: List[int], target: int) -> int:\n",
    "    def threeSumClosest(self, nums, target) :\n",
    "        result =[0,1,2]\n",
    "        diff = abs(nums[0]+nums[1]+nums[2]-target)\n",
    "        for i1 in range(len(nums)):\n",
    "            for i2 in range(i1+1,len(nums)):\n",
    "                for i3 in range(i2+1, len(nums)):\n",
    "                    if abs(nums[i1]+nums[i2]+nums[i3]-target) < diff:\n",
    "                        diff = abs(nums[i1]+nums[i2]+nums[i3]-target)\n",
    "                        result = [i1, i2, i3]\n",
    "        print (result, diff)\n",
    "        return diff\n",
    "    \n",
    "s16 = Solution16()        \n",
    "s16.threeSumClosest([1,2,4,-6,7,-11,15], 4)                     "
   ]
  },
  {
   "cell_type": "markdown",
   "metadata": {},
   "source": [
    "## 3. Dynamic Programming"
   ]
  },
  {
   "cell_type": "markdown",
   "metadata": {},
   "source": [
    "[Fibonacci Number](https://leetcode.com/problems/fibonacci-number/)\n",
    "\n",
    "509. Fibonacci Number\n",
    "\n",
    "The Fibonacci numbers, commonly denoted F(n) form a sequence, called the Fibonacci sequence, such that each number is the sum of the two preceding ones, starting from 0 and 1. That is,\n",
    "\n",
    "F(0) = 0,   F(1) = 1\n",
    "F(N) = F(N - 1) + F(N - 2), for N > 1.\n",
    "Given N, calculate F(N)."
   ]
  },
  {
   "cell_type": "code",
   "execution_count": 51,
   "metadata": {},
   "outputs": [
    {
     "name": "stdout",
     "output_type": "stream",
     "text": [
      "0\n",
      "1\n",
      "1\n",
      "2\n",
      "3\n",
      "5\n",
      "8\n",
      "13\n",
      "21\n"
     ]
    }
   ],
   "source": [
    "class Solution509:\n",
    "    #def fib(self, N: int) -> int:\n",
    "    def fib(self, N):\n",
    "        f_n_2 = 0\n",
    "        f_n_1 = 1\n",
    "        if N == 0:\n",
    "            return f_n_2\n",
    "        elif N == 1: \n",
    "            return f_n_1\n",
    "        else:\n",
    "            i = 2\n",
    "            while i <= N:\n",
    "                f_n = f_n_1 + f_n_2\n",
    "                i += 1\n",
    "                f_n_2 = f_n_1\n",
    "                f_n_1 = f_n\n",
    "            return f_n\n",
    "        \n",
    "s509 = Solution509()        \n",
    "for i in range(9):\n",
    "    print(s509.fib(i))         "
   ]
  },
  {
   "cell_type": "markdown",
   "metadata": {},
   "source": [
    "[Climbing Stairs](https://leetcode.com/problems/climbing-stairs/)\n",
    "\n",
    "70. Climbing Stairs Easy\n",
    "\n",
    "You are climbing a stair case. It takes n steps to reach to the top.\n",
    "\n",
    "Each time you can either climb 1 or 2 steps. In how many distinct ways can you climb to the top?\n",
    "\n",
    "Note: Given n will be a positive integer.\n",
    "\n",
    "Example 1:\n",
    "\n",
    "Input: 2\n",
    "Output: 2\n",
    "Explanation: There are two ways to climb to the top.\n",
    "1. 1 step + 1 step\n",
    "2. 2 steps"
   ]
  },
  {
   "cell_type": "code",
   "execution_count": 119,
   "metadata": {},
   "outputs": [
    {
     "name": "stdout",
     "output_type": "stream",
     "text": [
      "987\n"
     ]
    }
   ],
   "source": [
    "class Solution70:\n",
    "    #def climbStairs(self, n: int) -> int:\n",
    "    def climbStairs(self, n) :\n",
    "        if n < 0:\n",
    "            return \"error\"\n",
    "        elif n <= 2:\n",
    "            return n\n",
    "        result = 0\n",
    "        i = 1\n",
    "        while i <= 2 and 0 <= n - i :\n",
    "            result += self.climbStairs(n - i)\n",
    "            i += 1\n",
    "        return result\n",
    "    \n",
    "s70 = Solution70()        \n",
    "print(s70.climbStairs(15))                                "
   ]
  },
  {
   "cell_type": "code",
   "execution_count": 120,
   "metadata": {},
   "outputs": [
    {
     "name": "stdout",
     "output_type": "stream",
     "text": [
      "Number of ways = 987\n"
     ]
    }
   ],
   "source": [
    "## from : https://www.geeksforgeeks.org/count-ways-reach-nth-stair/\n",
    "def countWaysUtil(n,m): \n",
    "    if n <= 1: \n",
    "        return n \n",
    "    res = 0\n",
    "    i = 1\n",
    "    while i<=m and i<=n: \n",
    "        res = res + countWaysUtil(n-i, m) \n",
    "        i = i + 1\n",
    "    return res \n",
    "def countWays(s,m): \n",
    "    return countWaysUtil(s+1, m) \n",
    "s,m = 15,2\n",
    "print (\"Number of ways =\",countWays(s, m))"
   ]
  },
  {
   "cell_type": "markdown",
   "metadata": {},
   "source": [
    "[Best Time to Buy and Sell Stock](https://leetcode.com/problems/best-time-to-buy-and-sell-stock/)\n",
    "\n",
    "121. Best Time to Buy and Sell Stock Easy\n",
    "\n",
    "Say you have an array for which the ith element is the price of a given stock on day i.\n",
    "\n",
    "If you were only permitted to complete at most one transaction (i.e., buy one and sell one share of the stock), design an algorithm to find the maximum profit.\n",
    "\n",
    "Note that you cannot sell a stock before you buy one.\n",
    "\n",
    "Example 1:\n",
    "\n",
    "Input: [7,1,5,3,6,4]\n",
    "Output: 5\n",
    "Explanation: Buy on day 2 (price = 1) and sell on day 5 (price = 6), profit = 6-1 = 5.\n",
    "             Not 7-1 = 6, as selling price needs to be larger than buying price."
   ]
  },
  {
   "cell_type": "code",
   "execution_count": 126,
   "metadata": {},
   "outputs": [
    {
     "name": "stdout",
     "output_type": "stream",
     "text": [
      "6\n",
      "6\n"
     ]
    }
   ],
   "source": [
    "class Solution121:\n",
    "    #def maxProfit(self, prices: List[int]) -> int:\n",
    "    \n",
    "# bruttal force  Time Complexity: O(n^2)\n",
    "    def maxProfit(self, prices):  \n",
    "        profit_total = 0\n",
    "        for i in range (len(prices)):\n",
    "            profit_i = 0\n",
    "            for j in range (i+1, len(prices)):\n",
    "                if prices[j]-prices[i] > profit_i:\n",
    "                    profit_i = prices[j]-prices[i]\n",
    "            if profit_i > profit_total:\n",
    "                profit_total = profit_i\n",
    "        return profit_total\n",
    "\n",
    "    \n",
    "# simpler function, Time Complexity: O(n)\n",
    "    def maxProfit_V2(self, prices):  \n",
    "        profit_total = 0\n",
    "        price_min = prices[0]\n",
    "        price_max = prices[0]\n",
    "        for i in range (len(prices)):\n",
    "            if prices[i] < price_min:\n",
    "                price_min = prices[i]\n",
    "            if prices[i] - price_min > profit_total:\n",
    "                profit_total = prices[i] - price_min\n",
    "        return profit_total\n",
    "    \n",
    "prices_sample = [7,1,5,3,1,4, 7]\n",
    "\n",
    "s121 = Solution121()       \n",
    "print(s121.maxProfit(prices_sample))  \n",
    "print(s121.maxProfit_V2(prices_sample))  "
   ]
  },
  {
   "cell_type": "code",
   "execution_count": null,
   "metadata": {},
   "outputs": [],
   "source": []
  }
 ],
 "metadata": {
  "kernelspec": {
   "display_name": "Python 3",
   "language": "python",
   "name": "python3"
  },
  "language_info": {
   "codemirror_mode": {
    "name": "ipython",
    "version": 3
   },
   "file_extension": ".py",
   "mimetype": "text/x-python",
   "name": "python",
   "nbconvert_exporter": "python",
   "pygments_lexer": "ipython3",
   "version": "3.7.3"
  }
 },
 "nbformat": 4,
 "nbformat_minor": 2
}
