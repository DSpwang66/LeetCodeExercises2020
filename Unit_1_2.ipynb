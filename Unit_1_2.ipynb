{
 "cells": [
  {
   "cell_type": "markdown",
   "metadata": {},
   "source": [
    "### Naming Convention"
   ]
  },
  {
   "cell_type": "code",
   "execution_count": null,
   "metadata": {},
   "outputs": [],
   "source": [
    "class: DataFrame()\n",
    "function: value_counts()\n",
    "variables:\n",
    "    MAX = float('inf')  # all cpas for CONSTANT\n",
    "    nums = [1, 2, 3, 4]\n",
    "    n = len(nums)\n"
   ]
  },
  {
   "cell_type": "code",
   "execution_count": 4,
   "metadata": {},
   "outputs": [
    {
     "name": "stdout",
     "output_type": "stream",
     "text": [
      "Python 3.7.3\r\n"
     ]
    }
   ],
   "source": [
    "!python --version"
   ]
  },
  {
   "cell_type": "markdown",
   "metadata": {},
   "source": [
    "### List"
   ]
  },
  {
   "cell_type": "code",
   "execution_count": 7,
   "metadata": {},
   "outputs": [
    {
     "data": {
      "text/plain": [
       "[0, 0, 0, 0, 0, 0, 0, 0]"
      ]
     },
     "execution_count": 7,
     "metadata": {},
     "output_type": "execute_result"
    }
   ],
   "source": [
    "m, n = 8, 6\n",
    "empty_list = [] = list()   #mutable\n",
    "nums = [0 for i in range (m)]\n",
    "mums = m*[0]\n",
    "nums"
   ]
  },
  {
   "cell_type": "code",
   "execution_count": 55,
   "metadata": {},
   "outputs": [
    {
     "data": {
      "text/plain": [
       "[0, 1, 2, 3, 4, 5]"
      ]
     },
     "execution_count": 55,
     "metadata": {},
     "output_type": "execute_result"
    }
   ],
   "source": [
    "nums3 = [i for i in range(6)]# → [0,1,2,3,4,5]\n",
    "nums3"
   ]
  },
  {
   "cell_type": "code",
   "execution_count": 56,
   "metadata": {},
   "outputs": [
    {
     "data": {
      "text/plain": [
       "[5, 4, 3, 2, 1, 0]"
      ]
     },
     "execution_count": 56,
     "metadata": {},
     "output_type": "execute_result"
    }
   ],
   "source": [
    "Reverse_nums3 = nums3[: : -1]# → [::-1]~ [start(0), end(6), step (-1)] →[5,4,3,2,1,0]\n",
    "Reverse_nums3"
   ]
  },
  {
   "cell_type": "code",
   "execution_count": null,
   "metadata": {},
   "outputs": [],
   "source": [
    "Even_nums3 = nums[: : 2] → [0,2,4]\n",
    "odd_nums3 = nums[1 : 2] → [1,3,5]"
   ]
  },
  {
   "cell_type": "code",
   "execution_count": 3,
   "metadata": {},
   "outputs": [
    {
     "data": {
      "text/plain": [
       "[[0, 0, 0, 0, 0, 0],\n",
       " [0, 0, 0, 0, 0, 0],\n",
       " [0, 0, 0, 0, 0, 0],\n",
       " [0, 0, 0, 0, 0, 0],\n",
       " [0, 0, 0, 0, 0, 0],\n",
       " [0, 0, 0, 0, 0, 0],\n",
       " [0, 0, 0, 0, 0, 0],\n",
       " [0, 0, 0, 0, 0, 0]]"
      ]
     },
     "execution_count": 3,
     "metadata": {},
     "output_type": "execute_result"
    }
   ],
   "source": [
    "m, n = 8, 6\n",
    "matrix = [[0 for j in range (n)] for i in range (m)]\n",
    "matrix"
   ]
  },
  {
   "cell_type": "markdown",
   "metadata": {},
   "source": [
    "### Turple"
   ]
  },
  {
   "cell_type": "code",
   "execution_count": null,
   "metadata": {},
   "outputs": [],
   "source": [
    "empty_tuple = () = tuple () or = (1,2,3,4) = tuple (list1)  #-- immutable\n"
   ]
  },
  {
   "cell_type": "markdown",
   "metadata": {},
   "source": [
    "### Dictionary \n",
    "#### key (‘a’) immutable, value mutable. dict[‘d’] = 9.  So list can’t be key, while tuple can as tuple is immutable."
   ]
  },
  {
   "cell_type": "code",
   "execution_count": 9,
   "metadata": {},
   "outputs": [
    {
     "ename": "SyntaxError",
     "evalue": "invalid syntax (<ipython-input-9-bbe75a59b0e5>, line 2)",
     "output_type": "error",
     "traceback": [
      "\u001b[0;36m  File \u001b[0;32m\"<ipython-input-9-bbe75a59b0e5>\"\u001b[0;36m, line \u001b[0;32m2\u001b[0m\n\u001b[0;31m    Import collection\u001b[0m\n\u001b[0m                    ^\u001b[0m\n\u001b[0;31mSyntaxError\u001b[0m\u001b[0;31m:\u001b[0m invalid syntax\n"
     ]
    }
   ],
   "source": [
    "Empty_dict = {} = dict() \n",
    "Import collections\n",
    "Empty_dict3  = collections.defaultdict()"
   ]
  },
  {
   "cell_type": "code",
   "execution_count": 16,
   "metadata": {},
   "outputs": [
    {
     "data": {
      "text/plain": [
       "True"
      ]
     },
     "execution_count": 16,
     "metadata": {},
     "output_type": "execute_result"
    }
   ],
   "source": [
    "dict1 = {'a': 1, 'b': 2, 'c':3}\n",
    "#or dict[‘a’] = m  #-- key (‘a’) immutable, value mutable. dict[‘d’] = 9\n",
    "Dict2 = {dict1[key]: key for key in dict1} #\t\t=> dict2 = {1:’a’, 2:’b’, 3:’c’}\n",
    "Dict2 = {dict1[key]: key for key in dict1.keys()} #\t=> dict2 = {1:’a’, 2:’b’, 3:’c’}\n",
    "Dict3 = {value : key for key, value in dict1.items()} #\t=> dict3 = {1:’a’, 2:’b’, 3:’c’}\n",
    "Dict2 == Dict3"
   ]
  },
  {
   "cell_type": "code",
   "execution_count": 17,
   "metadata": {},
   "outputs": [
    {
     "data": {
      "text/plain": [
       "{1: 'a', 2: 'b', 3: 'c', 'd': 6}"
      ]
     },
     "execution_count": 17,
     "metadata": {},
     "output_type": "execute_result"
    }
   ],
   "source": [
    "Dict2['d'] = n\n",
    "Dict2"
   ]
  },
  {
   "cell_type": "code",
   "execution_count": null,
   "metadata": {},
   "outputs": [],
   "source": [
    "Print ( 0 in dict1) === print (0 in dict.keys())\n",
    "Nums3 = [i for i in range(6)] #→ [0,1,2,3,4,5]\n",
    "Reverse_nums3 = nums3[: : -1] #→ [::-1]~ [start(0), end(6), step (-1)] →[5,4,3,2,1,0]\n",
    "Even_nums3 = nums[: : 2] #→ [0,2,4]\n",
    "odd_nums3 = nums[1 : 2] #→ [1,3,5]\n"
   ]
  },
  {
   "cell_type": "markdown",
   "metadata": {},
   "source": [
    "### Set,  immutable"
   ]
  },
  {
   "cell_type": "code",
   "execution_count": 21,
   "metadata": {},
   "outputs": [
    {
     "name": "stdout",
     "output_type": "stream",
     "text": [
      "{1, 2, 3}\n"
     ]
    }
   ],
   "source": [
    "lst = [1,2,3]\n",
    "Empty_set = set()\n",
    "Empty_set = set (lst) # NO ERROR\n",
    "print(Empty_set)\n",
    "Empty_set = {0,1,2,3} \n",
    "Empty_set ={tuple(lst)}\t#-- immutable\n",
    "\n"
   ]
  },
  {
   "cell_type": "markdown",
   "metadata": {},
   "source": [
    "### String,  immutable"
   ]
  },
  {
   "cell_type": "code",
   "execution_count": null,
   "metadata": {},
   "outputs": [],
   "source": [
    "Empty_string = ‘’ === “” === str()\t\t\t\t-- immutable"
   ]
  },
  {
   "cell_type": "code",
   "execution_count": 24,
   "metadata": {},
   "outputs": [
    {
     "name": "stdout",
     "output_type": "stream",
     "text": [
      "True\n",
      "True\n",
      "True\n",
      "False\n"
     ]
    }
   ],
   "source": [
    "string1 = 'python'\n",
    "print(string1[:] == string1)\n",
    "print(string1[:] is string1)\n",
    "print(nums[:] == nums)\n",
    "print(nums[:] is nums)   #FALSE: nums1[:]  is a copy of nums1 "
   ]
  },
  {
   "cell_type": "markdown",
   "metadata": {},
   "source": [
    "### Binary Operation: \n",
    "#### N >> i (N//(2^i),\tn <<i (n*2^i), \t5&3 (=1, and), \t5^3 (not same =6) , \t5|3 (or =7)"
   ]
  },
  {
   "cell_type": "code",
   "execution_count": 44,
   "metadata": {},
   "outputs": [
    {
     "name": "stdout",
     "output_type": "stream",
     "text": [
      "2\n",
      "10\n",
      "1\n",
      "6\n",
      "7\n"
     ]
    }
   ],
   "source": [
    "n = 5 # =101 in binary\n",
    "m = 3 # =011 in binary\n",
    "i = 1\n",
    "print(n >> i) # == (n//(2^i),\t\n",
    "print(n <<i ) # == (n*2^i), \t\n",
    "print(5&3)    # == (=1, and), \t\n",
    "print(5^3)    # == (not same =6) , \t\n",
    "print(5|3)    # ==  (or =7)"
   ]
  },
  {
   "cell_type": "markdown",
   "metadata": {},
   "source": [
    "### Time/Space complexity\n",
    "#### O(n) = O(n + a) = O(n*a*2) if a is constant."
   ]
  },
  {
   "cell_type": "markdown",
   "metadata": {},
   "source": [
    "1. Two Sum\n",
    "Easy\n",
    "Given an array of integers, return indices of the two numbers such that they add up to a specific target.\n",
    "\n",
    "You may assume that each input would have exactly one solution, and you may not use the same element twice.\n",
    "\n",
    "Example:\n",
    "\n",
    "Given nums = [2, 7, 11, 15], target = 9,\n",
    "\n",
    "Because nums[0] + nums[1] = 2 + 7 = 9,\n",
    "return [0, 1]."
   ]
  },
  {
   "cell_type": "code",
   "execution_count": 30,
   "metadata": {},
   "outputs": [
    {
     "name": "stdout",
     "output_type": "stream",
     "text": [
      "(1, 5)\n",
      "[3, 4]\n"
     ]
    }
   ],
   "source": [
    "class Solution:\n",
    "    #def twoSum(self, nums: List[int], target: int) -> List[int]:\n",
    "    \n",
    "#Time complexity ~ O(n^2)\n",
    "#Space complexity ~ O(1)\n",
    "    def twoSum(self, nums, target):\n",
    "        for i in range(len(nums)):\n",
    "            for j in range(i + 1, len(nums)):\n",
    "                if nums[i] + nums[j] == target:\n",
    "                    return (i, j)\n",
    "        return(-1)\n",
    "    \n",
    "#Time, Space =  ~ O(n), O(n)\n",
    "    def twoSum_v2(self, nums, target):\n",
    "        d = {}\n",
    "        for i, num in enumerate(nums):\n",
    "            if num in d:\n",
    "                return [d[num], i]\n",
    "            d[target - num] = i\n",
    "        return (-1) \n",
    "\n",
    "\n",
    "s = Solution()\n",
    "print(s.twoSum([-1,0,3,4,5,9,12,15],  9))\n",
    "print(s.twoSum_v2([-1,0,3,4,5,9,12,15],  9))\n",
    "    "
   ]
  },
  {
   "cell_type": "markdown",
   "metadata": {},
   "source": [
    "### 219. Contains Duplicate II\n",
    "\n",
    "Easy\n",
    "\n",
    "Given an array of integers and an integer k, find out whether there are two distinct indices i and j in the array such that nums[i] = nums[j] and the absolute difference between i and j is at most k.\n",
    "\n",
    "Example 1:\n",
    "Input: nums = [1,2,3,1], k = 3\n",
    "Output: true\n",
    "\n",
    "Example 2:\n",
    "Input: nums = [1,0,1,1], k = 1\n",
    "Output: true\n",
    "\n",
    "Example 3:\n",
    "Input: nums = [1,2,3,1,2,3], k = 2\n",
    "Output: false"
   ]
  },
  {
   "cell_type": "code",
   "execution_count": 36,
   "metadata": {},
   "outputs": [
    {
     "name": "stdout",
     "output_type": "stream",
     "text": [
      "False\n",
      "True\n"
     ]
    }
   ],
   "source": [
    "class Solution:\n",
    "    #Time, Space =  ~ O(n), O(n)\n",
    "    #def containsNearbyDuplicate(self, nums: List[int], k: int) -> bool:\n",
    "    def containsNearbyDuplicate(self, nums, k):\n",
    "        d = {}\n",
    "        for i, num in enumerate(nums):\n",
    "            if num in d and i - d[num] <= k: return True\n",
    "            d[num] = i\n",
    "        return False\n",
    "    # very much like the problem 1 (two sum) above\n",
    "s = Solution()\n",
    "print(s.containsNearbyDuplicate([-1,0,4,3,5,4,12,15],  2))\n",
    "print(s.containsNearbyDuplicate([-1,0,3,4,5,4,12,15],  2))"
   ]
  },
  {
   "cell_type": "markdown",
   "metadata": {},
   "source": [
    "### 888. Fair Candy Swap\n",
    "Easy\n",
    "\n",
    "Alice and Bob have candy bars of different sizes: A[i] is the size of the i-th bar of candy that Alice has, and B[j] is the size of the j-th bar of candy that Bob has.\n",
    "\n",
    "Since they are friends, they would like to exchange one candy bar each so that after the exchange, they both have the same total amount of candy.  (The total amount of candy a person has is the sum of the sizes of candy bars they have.)\n",
    "\n",
    "Return an integer array ans where ans[0] is the size of the candy bar that Alice must exchange, and ans[1] is the size of the candy bar that Bob must exchange.\n",
    "\n",
    "If there are multiple answers, you may return any one of them.  It is guaranteed an answer exists.\n",
    "\n",
    "Example 1:\n",
    "Input: A = [1,1], B = [2,2]\n",
    "Output: [1,2]\n",
    "\n",
    "Example 2:\n",
    "Input: A = [1,2], B = [2,3]\n",
    "Output: [1,2]\n",
    "\n",
    "Example 3:\n",
    "Input: A = [2], B = [1,3]\n",
    "Output: [2,3]\n",
    "\n",
    "Example 4:\n",
    "Input: A = [1,2,5], B = [2,4]\n",
    "Output: [5,4]"
   ]
  },
  {
   "cell_type": "code",
   "execution_count": 39,
   "metadata": {},
   "outputs": [
    {
     "name": "stdout",
     "output_type": "stream",
     "text": [
      "[1, 2]\n",
      "[5, 4]\n"
     ]
    }
   ],
   "source": [
    "class Solution:\n",
    "    #Time, Space =  ~ O(n+m), O(n+m)\n",
    "    #def fairCandySwap(self, A: List[int], B: List[int]) -> List[int]:\n",
    "    def fairCandySwap(self, A, B):\n",
    "        diff = (sum(A) - sum(B)) // 2\n",
    "        a, b = set(A), set(B)\n",
    "        for num in b:\n",
    "            if num + diff in a: return [num + diff, num] # time is O(1) with set, O(n) with list!\n",
    "\n",
    "            \n",
    "s = Solution()\n",
    "print(s.fairCandySwap([1,1], [2,2] ))\n",
    "print(s.fairCandySwap([1,2,5],[2,4] ))        \n",
    "        \n",
    "        "
   ]
  },
  {
   "cell_type": "markdown",
   "metadata": {},
   "source": [
    "### 217. Contains Duplicate\n",
    "Easy\n",
    "\n",
    "Given an array of integers, find if the array contains any duplicates.\n",
    "\n",
    "Your function should return true if any value appears at least twice in the array, and it should return false if every element is distinct.\n",
    "\n",
    "Example 1:\n",
    "Input: [1,2,3,1]\n",
    "Output: true\n",
    "\n",
    "Example 2:\n",
    "Input: [1,2,3,4]\n",
    "Output: false\n",
    "\n",
    "Example 3:\n",
    "Input: [1,1,1,3,3,4,3,2,4,2]\n",
    "Output: true"
   ]
  },
  {
   "cell_type": "code",
   "execution_count": 41,
   "metadata": {},
   "outputs": [
    {
     "name": "stdout",
     "output_type": "stream",
     "text": [
      "True\n",
      "False\n",
      "True\n",
      "True\n",
      "False\n",
      "True\n"
     ]
    }
   ],
   "source": [
    "import collections\n",
    "class Solution:\n",
    "    #def containsDuplicate(self, nums: List[int]) -> bool:\n",
    "    #Time, Space =  ~ O(1), O(n)\n",
    "    def containsDuplicate(self, nums): # my solution\n",
    "        setnum = set(nums)\n",
    "        if len(nums) == len(list(setnum)):\n",
    "            return False\n",
    "        return True\n",
    "    #Time, Space =  ~ O(n), O(n)\n",
    "    def containsDuplicate_v2(self, nums): #teacher's solution\n",
    "        d = collections.defaultdict(int) # have to use this way to define dict, not dict() or {}, otherwise next line ERROR!\n",
    "        for num in nums:\n",
    "            d[num] += 1\n",
    "            if d[num] >= 2:\n",
    "                return True\n",
    "        return False\n",
    "    \n",
    "    \n",
    "    \n",
    "s = Solution()\n",
    "print(s.containsDuplicate([1,2,3,1]))\n",
    "print(s.containsDuplicate([1,2,3,4]))\n",
    "print(s.containsDuplicate( [1,1,1,3,3,4,3,2,4,2] ))\n",
    "\n",
    "print(s.containsDuplicate_v2([1,2,3,1]))\n",
    "print(s.containsDuplicate_v2([1,2,3,4]))\n",
    "print(s.containsDuplicate_v2( [1,1,1,3,3,4,3,2,4,2] ))\n",
    "        "
   ]
  },
  {
   "cell_type": "markdown",
   "metadata": {},
   "source": [
    "### 1304. Find N Unique Integers Sum up to Zero\n",
    "Easy\n",
    "\n",
    "Given an integer n, return any array containing n unique integers such that they add up to 0.\n",
    "\n",
    " \n",
    "\n",
    "Example 1:\n",
    "\n",
    "Input: n = 5\n",
    "Output: [-7,-1,1,3,4]\n",
    "Explanation: These arrays also are accepted [-5,-1,1,2,3] , [-3,-1,2,-2,4].\n",
    "Example 2:\n",
    "\n",
    "Input: n = 3\n",
    "Output: [-1,0,1]\n",
    "Example 3:\n",
    "\n",
    "Input: n = 1\n",
    "Output: [0]"
   ]
  },
  {
   "cell_type": "code",
   "execution_count": 43,
   "metadata": {},
   "outputs": [
    {
     "name": "stdout",
     "output_type": "stream",
     "text": [
      "[1, -1, 2, -2, 0]\n"
     ]
    }
   ],
   "source": [
    "class Solution:\n",
    "    #def sumZero(self, n: int) -> List[int]:\n",
    "    def sumZero(self, n):\n",
    "        res = []\n",
    "        for i in range(1, n // 2 +1):\n",
    "            res.append(i)\n",
    "            res.append(-i)\n",
    "        if n & 1:   # if n is odd number. \"&\" is binary operator\n",
    "            res.append(0)\n",
    "        return res\n",
    "                \n",
    "s = Solution()\n",
    "print(s.sumZero(5))        "
   ]
  },
  {
   "cell_type": "markdown",
   "metadata": {},
   "source": [
    "### 1299. Replace Elements with Greatest Element on Right Side\n",
    "Easy\n",
    "\n",
    "Given an array arr, replace every element in that array with the greatest element among the elements to its right, and replace the last element with -1.\n",
    "\n",
    "After doing so, return the array.\n",
    "\n",
    "Example 1:\n",
    "Input: arr = [17,18,5,4,6,1]\n",
    "Output: [18,6,6,6,1,-1]"
   ]
  },
  {
   "cell_type": "code",
   "execution_count": 58,
   "metadata": {},
   "outputs": [
    {
     "name": "stdout",
     "output_type": "stream",
     "text": [
      "[18, 6, 6, 6, 1, -1]\n"
     ]
    }
   ],
   "source": [
    "class Solution:\n",
    "#   def replaceElements(self, arr: List[int]) -> List[int]:\n",
    "    def replaceElements(self, arr):\n",
    "        arr_length = len(arr)\n",
    "        if arr_length <= 1: return [-1]\n",
    "        arr_max_remainder = arr[arr_length - 1]\n",
    "        res = [-1]\n",
    "        for i in range(arr_length - 1, 0, - 1):\n",
    "            if arr_max_remainder < arr[i]:\n",
    "                arr_max_remainder = arr[i]\n",
    "            res.append(arr_max_remainder)    # append = O(1); insert = o(n)\n",
    "        return res[::-1]   \n",
    "            \n",
    "s = Solution()\n",
    "print(s.replaceElements([17,18,5,4,6,1])) "
   ]
  },
  {
   "cell_type": "markdown",
   "metadata": {},
   "source": [
    "### 832. Flipping an Image\n",
    "Easy\n",
    "\n",
    "Given a binary matrix A, we want to flip the image horizontally, then invert it, and return the resulting image.\n",
    "\n",
    "To flip an image horizontally means that each row of the image is reversed.  For example, flipping [1, 1, 0] horizontally results in [0, 1, 1].\n",
    "\n",
    "To invert an image means that each 0 is replaced by 1, and each 1 is replaced by 0. For example, inverting [0, 1, 1] results in [1, 0, 0].\n",
    "\n",
    "Example 1:\n",
    "Input: [[1,1,0],[1,0,1],[0,0,0]]\n",
    "Output: [[1,0,0],[0,1,0],[1,1,1]]\n",
    "Explanation: First reverse each row: [[0,1,1],[1,0,1],[0,0,0]].\n",
    "Then, invert the image: [[1,0,0],[0,1,0],[1,1,1]]\n",
    "\n",
    "Example 2:\n",
    "Input: [[1,1,0,0],[1,0,0,1],[0,1,1,1],[1,0,1,0]]\n",
    "Output: [[1,1,0,0],[0,1,1,0],[0,0,0,1],[1,0,1,0]]\n",
    "Explanation: First reverse each row: [[0,0,1,1],[1,0,0,1],[1,1,1,0],[0,1,0,1]].\n",
    "Then invert the image: [[1,1,0,0],[0,1,1,0],[0,0,0,1],[1,0,1,0]]"
   ]
  },
  {
   "cell_type": "code",
   "execution_count": 66,
   "metadata": {},
   "outputs": [
    {
     "name": "stdout",
     "output_type": "stream",
     "text": [
      "[[1, 0, 0], [0, 1, 0], [1, 1, 1]]\n",
      "[[1, 1, 0, 0], [0, 1, 1, 0], [0, 0, 0, 1], [1, 0, 1, 0]]\n"
     ]
    }
   ],
   "source": [
    "class Solution:\n",
    "#    def flipAndInvertImage(self, A: List[List[int]]) -> List[List[int]]:\n",
    "    def flipAndInvertImage(self, A):\n",
    "        for row in A:\n",
    "            for i in range((len(row) + 1) // 2):\n",
    "                \"\"\"\n",
    "                In Python, the shortcut row[~i] = row[-i-1] = row[len(row) - 1 - i]\n",
    "                helps us find the i-th value of the row, counting from the right.\n",
    "                \"\"\"\n",
    "                row[i], row[~i] = row[~i] ^ 1, row[i] ^ 1\n",
    "        return A        \n",
    "\n",
    "s = Solution()\n",
    "print(s.flipAndInvertImage( [[1,1,0],[1,0,1],[0,0,0]] )) \n",
    "print(s.flipAndInvertImage( [[1,1,0,0],[1,0,0,1],[0,1,1,1],[1,0,1,0]] )) "
   ]
  },
  {
   "cell_type": "markdown",
   "metadata": {},
   "source": [
    "### 867. Transpose Matrix\n",
    "Easy\n",
    "\n",
    "Given a matrix A, return the transpose of A.\n",
    "\n",
    "The transpose of a matrix is the matrix flipped over it's main diagonal, switching the row and column indices of the matrix.\n",
    "\n",
    "Example 1:\n",
    "Input: [[1,2,3],[4,5,6],[7,8,9]]\n",
    "Output: [[1,4,7],[2,5,8],[3,6,9]]\n",
    "\n",
    "Example 2:\n",
    "Input: [[1,2,3],[4,5,6]]\n",
    "Output: [[1,4],[2,5],[3,6]]"
   ]
  },
  {
   "cell_type": "code",
   "execution_count": 81,
   "metadata": {},
   "outputs": [
    {
     "name": "stdout",
     "output_type": "stream",
     "text": [
      "[[1, 4], [2, 5], [3, 6]]\n",
      "[(1, 4), (2, 5), (3, 6)]\n"
     ]
    }
   ],
   "source": [
    "class Solution:\n",
    "#    def transpose(self, A: List[List[int]]) -> List[List[int]]:\n",
    "    def transpose(self, A):\n",
    "        R, C = len(A), len(A[0])\n",
    "        ans = [[None] * R for _ in range(C)]\n",
    "        for r, row in enumerate(A):\n",
    "            for c, val in enumerate(row):\n",
    "                ans[c][r] = val\n",
    "        return ans\n",
    "\n",
    "    def transpose_v2(self, A):\n",
    "        return list(zip(*A))  \n",
    "    \"\"\"\n",
    "    zip(*A) transposes a matrix (2-d array/list).\n",
    "    The * operator 'unpacks' an iterable or rows of a matrix and \n",
    "    zip interleaves and zips the rows column-wise:      \n",
    "    \"\"\"\n",
    "s = Solution()\n",
    "print(s.transpose( [[1,2,3],[4,5,6]]  ))\n",
    "print(s.transpose_v2( [[1,2,3],[4,5,6]]))"
   ]
  },
  {
   "cell_type": "code",
   "execution_count": 82,
   "metadata": {},
   "outputs": [
    {
     "data": {
      "text/plain": [
       "[(1, 4), (2, 5), (3, 6)]"
      ]
     },
     "execution_count": 82,
     "metadata": {},
     "output_type": "execute_result"
    }
   ],
   "source": [
    "aa = [[1,2,3],[4,5,6]] \n",
    "list(zip(*aa))"
   ]
  },
  {
   "cell_type": "markdown",
   "metadata": {},
   "source": [
    "### 766. Toeplitz Matrix\n",
    "Easy\n",
    "\n",
    "A matrix is Toeplitz if every diagonal from top-left to bottom-right has the same element.\n",
    "Now given an M x N matrix, return True if and only if the matrix is Toeplitz.\n",
    " \n",
    "Example 1:\n",
    "\n",
    "Input:\n",
    "matrix = [\n",
    "  [1,2,3,4],\n",
    "  [5,1,2,3],\n",
    "  [9,5,1,2]\n",
    "]\n",
    "Output: True\n",
    "Explanation:\n",
    "In the above grid, the diagonals are:\n",
    "\"[9]\", \"[5, 5]\", \"[1, 1, 1]\", \"[2, 2, 2]\", \"[3, 3]\", \"[4]\".\n",
    "In each diagonal all elements are the same, so the answer is True.\n",
    "\n",
    "Example 2:\n",
    "Input:\n",
    "matrix = [\n",
    "  [1,2],\n",
    "  [2,2]\n",
    "]\n",
    "Output: False\n",
    "Explanation:\n",
    "The diagonal \"[1, 2]\" has different elements.\n",
    "\n",
    "Note:\n",
    "\n",
    "matrix will be a 2D array of integers.\n",
    "matrix will have a number of rows and columns in range [1, 20].\n",
    "matrix[i][j] will be integers in range [0, 99].\n"
   ]
  },
  {
   "cell_type": "code",
   "execution_count": 83,
   "metadata": {},
   "outputs": [
    {
     "name": "stdout",
     "output_type": "stream",
     "text": [
      "True\n",
      "True\n"
     ]
    }
   ],
   "source": [
    "class Solution(object):\n",
    "    \n",
    "    #Time/Space = O(M*N)/O(1).    \n",
    "    def isToeplitzMatrix(self, matrix):\n",
    "        groups = {}\n",
    "        for r, row in enumerate(matrix):\n",
    "            for c, val in enumerate(row):\n",
    "                if r-c not in groups:\n",
    "                    groups[r-c] = val\n",
    "                elif groups[r-c] != val:\n",
    "                    return False\n",
    "        return True\n",
    "\n",
    "    #Time/Space = O(M*N)/O(1).    \n",
    "    def isToeplitzMatrix_V2(self, matrix):\n",
    "        return all(r == 0 or c == 0 or matrix[r-1][c-1] == val\n",
    "                   for r, row in enumerate(matrix)\n",
    "                   for c, val in enumerate(row))    \n",
    "    \n",
    "s = Solution()\n",
    "print(s.isToeplitzMatrix( [[1,2,3,4],[5,1,2,3],[9,5,1,2]]  ))\n",
    "print(s.isToeplitzMatrix_V2([[1,2,3,4],[5,1,2,3],[9,5,1,2]] ))  \n",
    "    "
   ]
  },
  {
   "cell_type": "markdown",
   "metadata": {},
   "source": [
    "# Unit 2"
   ]
  },
  {
   "cell_type": "code",
   "execution_count": 99,
   "metadata": {
    "scrolled": true
   },
   "outputs": [
    {
     "name": "stdout",
     "output_type": "stream",
     "text": [
      "a = 5\n",
      "a = 5\n",
      "a == b is {False}\n",
      "c = a / b = 2.5\n",
      "d = a // b = 2\n",
      "c == d is False\n"
     ]
    }
   ],
   "source": [
    "a = 5\n",
    "b = 2\n",
    "c = a / b\n",
    "d = a // b\n",
    "print ('a = %d' % a)  #for numbers\n",
    "print ('a = %r' % a)#\tfor number or string\n",
    "print (f'a == b is', {a==b} ) # ⇒ a == b is false\n",
    "print('c = a / b = {c}'.format(c=c))\n",
    "print(f'd = a // b = {d}')\n",
    "print(f'c == d is {c==d}')"
   ]
  },
  {
   "cell_type": "markdown",
   "metadata": {},
   "source": [
    "### Swap: "
   ]
  },
  {
   "cell_type": "code",
   "execution_count": 103,
   "metadata": {},
   "outputs": [
    {
     "name": "stdout",
     "output_type": "stream",
     "text": [
      "5 2\n",
      "2 5\n"
     ]
    }
   ],
   "source": [
    "#best:\n",
    "a, b = b, a #best\n",
    "print(a,b)\n",
    "#Ok soluction with binary operation:\n",
    "a ^= b\n",
    "b ^= a\n",
    "a ^= b\n",
    "print(a,b)"
   ]
  },
  {
   "cell_type": "markdown",
   "metadata": {},
   "source": [
    "### 704. Binary Search\n",
    "Easy\n",
    "\n",
    "Given a sorted (in ascending order) integer array nums of n elements and a target value, write a function to search target in nums. If target exists, then return its index, otherwise return -1.\n",
    "\n",
    "Example 1:\n",
    "Input: nums = [-1,0,3,5,9,12], target = 9\n",
    "Output: 4\n",
    "Explanation: 9 exists in nums and its index is 4\n",
    "\n",
    "Example 2:\n",
    "Input: nums = [-1,0,3,5,9,12], target = 2\n",
    "Output: -1\n",
    "Explanation: 2 does not exist in nums so return -1"
   ]
  },
  {
   "cell_type": "code",
   "execution_count": 110,
   "metadata": {},
   "outputs": [
    {
     "name": "stdout",
     "output_type": "stream",
     "text": [
      "4\n",
      "-1\n",
      "4\n",
      "-1\n",
      "4\n",
      "-1\n"
     ]
    }
   ],
   "source": [
    "class Solution:\n",
    "    #Time/Space = O(log(n))/O(1) but with 3 templates    \n",
    "    \n",
    "    # template #1:\n",
    "    # while loop:        left + 1 < right\n",
    "    # exit condition:    left + 1 == right\n",
    "    # update rule:       left = mid\n",
    "    #                    right = mid\n",
    "    # check point:       left, right\n",
    "    def search(self, nums, target):\n",
    "        left, right = 0, len(nums) - 1\n",
    "        while left +1 < right:\n",
    "            mid = left + (right - left) // 2\n",
    "            if   nums[mid] > target: right = mid\n",
    "            elif nums[mid] < target: left = mid\n",
    "            else: return mid\n",
    "        if nums[left] == target: return left\n",
    "        if nums[right] == target: return right\n",
    "        return -1\n",
    "\n",
    "    # template #2:\n",
    "    # while loop:        left < right\n",
    "    # exit condition:    left == right\n",
    "    # update rule:       left = mid + 1\n",
    "    #                    right = mid\n",
    "    # check point:       left\n",
    "    def search_v2(self, nums, target):\n",
    "        left, right = 0, len(nums) - 1\n",
    "        while left < right:\n",
    "            mid = left + (right - left) // 2\n",
    "            if   nums[mid] > target: right = mid\n",
    "            elif nums[mid] < target: left = mid + 1\n",
    "            else: return mid\n",
    "        if nums[left] == target: return left\n",
    "        return -1\n",
    "    \n",
    "    # template #3:\n",
    "    # while loop:        left <= right\n",
    "    # exit condition:    left - 1 == right\n",
    "    # update rule:       left = mid + 1\n",
    "    #                    right = mid - 1\n",
    "    # check point:       none\n",
    "    def search_v3(self, nums, target):\n",
    "        left, right = 0, len(nums) - 1\n",
    "        while left <= right:\n",
    "            mid = left + (right - left) // 2\n",
    "            if   nums[mid] > target: right = mid - 1\n",
    "            elif nums[mid] < target: left = mid + 1\n",
    "            else: return mid\n",
    "        return -1\n",
    "    \n",
    "s = Solution()\n",
    "print(s.search( [-1,0,3,5,9,12], 9 ))\n",
    "print(s.search( [-1,0,3,5,9,12], 2))\n",
    "\n",
    "print(s.search_v2( [-1,0,3,5,9,12], 9 ))\n",
    "print(s.search_v2( [-1,0,3,5,9,12], 2))\n",
    "\n",
    "print(s.search_v3( [-1,0,3,5,9,12], 9 ))\n",
    "print(s.search_v3( [-1,0,3,5,9,12], 2))"
   ]
  },
  {
   "cell_type": "markdown",
   "metadata": {},
   "source": [
    "### 852. Peak Index in a Mountain Array\n",
    "Easy\n",
    "\n",
    "Let's call an array A a mountain if the following properties hold:\n",
    "\n",
    "A.length >= 3\n",
    "There exists some 0 < i < A.length - 1 such that A[0] < A[1] < ... A[i-1] < A[i] > A[i+1] > ... > A[A.length - 1]\n",
    "Given an array that is definitely a mountain, return any i such that A[0] < A[1] < ... A[i-1] < A[i] > A[i+1] > ... > A[A.length - 1].\n",
    "\n",
    "Example 1:\n",
    "Input: [0,1,0]\n",
    "Output: 1\n",
    "\n",
    "Example 2:\n",
    "Input: [0,2,1,0]\n",
    "Output: 1"
   ]
  },
  {
   "cell_type": "code",
   "execution_count": 117,
   "metadata": {},
   "outputs": [
    {
     "name": "stdout",
     "output_type": "stream",
     "text": [
      "1\n",
      "1\n"
     ]
    }
   ],
   "source": [
    "class Solution:\n",
    "    #def peakIndexInMountainArray(self, A: List[int]) -> int:\n",
    "    def peakIndexInMountainArray(self, A):\n",
    "    # template #3:\n",
    "    # while loop:        left <= right\n",
    "    # exit condition:    left - 1 == right\n",
    "    # update rule:       left = mid + 1\n",
    "    #                    right = mid - 1\n",
    "    # check point:       none\n",
    "        left, right = 1, len(A) - 2\n",
    "        while left <= right:\n",
    "            mid = left + (right - left) // 2\n",
    "            if A[mid] <= A[mid + 1]: \n",
    "                left = mid + 1\n",
    "            elif A[mid - 1] >= A[mid]: \n",
    "                right = mid - 1\n",
    "            else: \n",
    "                return mid\n",
    "        #mid = left\n",
    "        #if   A[mid - 1] < A[mid] and A[mid] > A[mid + 1]: \n",
    "        #    return mid\n",
    "        return -1\n",
    "        \n",
    "        \n",
    "s = Solution()\n",
    "print(s.peakIndexInMountainArray( [0,1,0]  ))\n",
    "print(s.peakIndexInMountainArray( [0,2,1,0] ))        "
   ]
  },
  {
   "cell_type": "markdown",
   "metadata": {},
   "source": [
    "### 441. Arranging Coins\n",
    "Easy\n",
    "\n",
    "You have a total of n coins that you want to form in a staircase shape, where every k-th row must have exactly k coins.\n",
    "\n",
    "Given n, find the total number of full staircase rows that can be formed.\n",
    "\n",
    "n is a non-negative integer and fits within the range of a 32-bit signed integer.\n",
    "\n",
    "Example 1:\n",
    "n = 5\n",
    "\n",
    "The coins can form the following rows:\n",
    "¤\n",
    "¤ ¤\n",
    "¤ ¤\n",
    "\n",
    "Because the 3rd row is incomplete, we return 2.\n",
    "\n",
    "Example 2:\n",
    "n = 8\n",
    "\n",
    "The coins can form the following rows:\n",
    "¤\n",
    "¤ ¤\n",
    "¤ ¤ ¤\n",
    "¤ ¤\n",
    "Because the 4th row is incomplete, we return 3."
   ]
  },
  {
   "cell_type": "code",
   "execution_count": 132,
   "metadata": {},
   "outputs": [
    {
     "name": "stdout",
     "output_type": "stream",
     "text": [
      "5\n",
      "8\n",
      "5\n",
      "8\n"
     ]
    }
   ],
   "source": [
    "class Solution:\n",
    "    #def arrangeCoins(self, n: int) -> int:\n",
    "    def arrangeCoins(self, n) :\n",
    "    # template #3:\n",
    "    # while loop:        left <= right\n",
    "    # exit condition:    left - 1 == right\n",
    "    # update rule:       left = x + 1\n",
    "    #                    right = x - 1\n",
    "    # check point:       none\n",
    "        left, right = 1, n\n",
    "        while left <= right:\n",
    "            x = left + (right - left) // 2\n",
    "            #print(left, x, right)\n",
    "            if x * (x + 1) // 2 > n: \n",
    "                right = x - 1\n",
    "            elif (x + 2) * (x + 1) // 2 < n:\n",
    "                left = x + 1\n",
    "            elif (x + 2) * (x + 1) // 2 == n:\n",
    "                return x + 1\n",
    "            else: \n",
    "                return x\n",
    "        return 0\n",
    "\n",
    "    def arrangeCoins_v2(self, n) :\n",
    "    # Newton's method:\n",
    "    # f(x) = x * (x + 1)/2 - n\n",
    "    # f'(x) = x + 1 / 2\n",
    "    # exit condition:    f(x_m) <= 0 AND f(x_m+1) > 0\n",
    "    # update rule:       x_m+1 = x_m - f(x_m) / f'(x_m)\n",
    "    # check point:       f(x_m) <= 0 AND f(x_m+1) > 0 \n",
    "\n",
    "        x = 0\n",
    "        f_x_m = - n\n",
    "        f_x_m_1 = 1 - n\n",
    "        f_x_x_m = 1 / 2 \n",
    "        while f_x_m > 0 or f_x_m_1 < 0: \n",
    "            x = int(x - f_x_m / f_x_x_m)\n",
    "            f_x_m = x * (x + 1) / 2 - n\n",
    "            f_x_m_1 = (x + 2) * (x + 1) / 2 - n\n",
    "            f_x_x_m = x + 1 / 2 \n",
    "\n",
    "        if f_x_m_1 == 0: \n",
    "            return x + 1\n",
    "        else: \n",
    "            return x\n",
    "        return 0\n",
    "    \n",
    "s = Solution()\n",
    "print(s.arrangeCoins(15 ))\n",
    "print(s.arrangeCoins(38 ))\n",
    "        \n",
    "print(s.arrangeCoins_v2(15 ))\n",
    "print(s.arrangeCoins_v2(38 ))"
   ]
  },
  {
   "cell_type": "markdown",
   "metadata": {},
   "source": [
    "### 35. Search Insert Position\n",
    "Easy\n",
    "\n",
    "Given a sorted array and a target value, return the index if the target is found. If not, return the index where it would be if it were inserted in order.\n",
    "\n",
    "You may assume no duplicates in the array.\n",
    "\n",
    "Example 1:\n",
    "Input: [1,3,5,6], 5\n",
    "Output: 2\n",
    "    \n",
    "Example 2:\n",
    "Input: [1,3,5,6], 2\n",
    "Output: 1\n",
    "    \n",
    "Example 3:\n",
    "Input: [1,3,5,6], 7\n",
    "Output: 4\n",
    "    \n",
    "Example 4:\n",
    "Input: [1,3,5,6], 0\n",
    "Output: 0"
   ]
  },
  {
   "cell_type": "code",
   "execution_count": 167,
   "metadata": {},
   "outputs": [
    {
     "name": "stdout",
     "output_type": "stream",
     "text": [
      "2\n",
      "1\n",
      "4\n",
      "0\n",
      "2\n",
      "1\n",
      "4\n",
      "0\n"
     ]
    }
   ],
   "source": [
    "import bisect \n",
    "\n",
    "class Solution:\n",
    "    #def searchInsert(self, nums: List[int], target: int) -> int:\n",
    "\n",
    "    # template #2:\n",
    "    # while loop:        left < right\n",
    "    # exit condition:    left == right\n",
    "    # update rule:       left = mid + 1\n",
    "    #                    right = mid\n",
    "    # check point:       left\n",
    "    def searchInsert(self, nums, target):\n",
    "        left, right = 0, len(nums) - 1\n",
    "        mid = left + (right - left) // 2\n",
    " #       print (left, mid, right, target)\n",
    " #       print (nums[left],nums[mid] ,nums[right]  )\n",
    "        if nums[right] < target: return right + 1\n",
    "        if nums[left] >= target: return left\n",
    "        if nums[right] == target: return right        \n",
    "        while left < right:\n",
    "            mid = left + (right - left) // 2\n",
    "            #print (left, mid, right)\n",
    "            #print (nums[left],nums[mid] ,nums[right], target  )\n",
    "            if nums[mid] == target:\n",
    "                return mid \n",
    "            elif nums[mid] < target:\n",
    "                left = mid + 1\n",
    "            else:\n",
    "                right = mid\n",
    "        #print (left, mid, right)\n",
    "        #print (nums[left],nums[mid] ,nums[right], target  )\n",
    "        if nums[left] >= target : return left\n",
    "        return -1\n",
    "\n",
    "#built-in function: bisect.bisect_left\n",
    "    def searchInsert_v2(self, nums, target):\n",
    "        return bisect.bisect_left(nums, target)\n",
    "    \n",
    "    \n",
    "s = Solution()\n",
    "print(s.searchInsert( [1,3,5,6], 5  ))\n",
    "print(s.searchInsert( [1,3,5,6], 2  ))\n",
    "print(s.searchInsert( [1,3,5,6], 7  ))\n",
    "print(s.searchInsert( [1,3,5,6], 0  ))\n",
    "\n",
    "print(s.searchInsert_v2( [1,3,5,6], 5  ))\n",
    "print(s.searchInsert_v2( [1,3,5,6], 2  ))\n",
    "print(s.searchInsert_v2( [1,3,5,6], 7  ))\n",
    "print(s.searchInsert_v2( [1,3,5,6], 0  ))"
   ]
  },
  {
   "cell_type": "markdown",
   "metadata": {},
   "source": [
    "### 475. Heaters\n",
    "Easy\n",
    "\n",
    "Winter is coming! Your first job during the contest is to design a standard heater with fixed warm radius to warm all the houses.\n",
    "\n",
    "Now, you are given positions of houses and heaters on a horizontal line, find out minimum radius of heaters so that all houses could be covered by those heaters.\n",
    "\n",
    "So, your input will be the positions of houses and heaters seperately, and your expected output will be the minimum radius standard of heaters.\n",
    "\n",
    "Note:\n",
    "\n",
    "Numbers of houses and heaters you are given are non-negative and will not exceed 25000.\n",
    "Positions of houses and heaters you are given are non-negative and will not exceed 10^9.\n",
    "As long as a house is in the heaters' warm radius range, it can be warmed.\n",
    "All the heaters follow your radius standard and the warm radius will the same.\n",
    " \n",
    "Example 1:\n",
    "Input: [1,2,3],[2]\n",
    "Output: 1\n",
    "Explanation: The only heater was placed in the position 2, and if we use the radius 1 standard, then all the houses can be warmed.\n",
    " \n",
    "Example 2:\n",
    "Input: [1,2,3,4],[1,4]\n",
    "Output: 1\n",
    "Explanation: The two heater was placed in the position 1 and 4. We need to use radius 1 standard, then all the houses can be warmed.\n",
    " "
   ]
  },
  {
   "cell_type": "code",
   "execution_count": 181,
   "metadata": {},
   "outputs": [
    {
     "name": "stdout",
     "output_type": "stream",
     "text": [
      "1\n",
      "1\n"
     ]
    }
   ],
   "source": [
    "class Solution:\n",
    "    #def findRadius(self, houses: List[int], heaters: List[int]) -> int:\n",
    "    def findRadius(self, houses, heaters):\n",
    "    # template #2:\n",
    "    # while loop:        left < right\n",
    "    # exit condition:    left == right\n",
    "    # update rule:       left = mid + 1\n",
    "    #                    right = mid\n",
    "    # check point:       left\n",
    "        heaters.sort()\n",
    "        heaters = [float('-inf')] + heaters + [float('inf')]\n",
    "        res, n = 0, len(heaters) - 1\n",
    "        for house in houses:\n",
    "            left, right = 0, n\n",
    "            while left < right:\n",
    "                mid = left + (right - left) // 2\n",
    "                if heaters[mid] < house: left = mid + 1\n",
    "                else: right = mid\n",
    "\n",
    "            res = max(res, min(abs(heaters[left - 1] - house), abs(heaters[left] - house)))\n",
    "        return res\n",
    "    \n",
    "s = Solution()\n",
    "print(s.findRadius(  [1,2,3],[2]  ))\n",
    "print(s.findRadius( [1,2,3,4],[1,4]  ))\n",
    "    "
   ]
  },
  {
   "cell_type": "markdown",
   "metadata": {},
   "source": [
    "### 367. Valid Perfect Square\n",
    "Easy\n",
    "\n",
    "Given a positive integer num, write a function which returns True if num is a perfect square else False.\n",
    "\n",
    "Note: Do not use any built-in library function such as sqrt.\n",
    "\n",
    "Example 1:\n",
    "Input: 16\n",
    "Output: true\n",
    "    \n",
    "Example 2:\n",
    "Input: 14\n",
    "Output: false"
   ]
  },
  {
   "cell_type": "code",
   "execution_count": 194,
   "metadata": {},
   "outputs": [
    {
     "name": "stdout",
     "output_type": "stream",
     "text": [
      "True\n",
      "False\n",
      "True\n",
      "True\n",
      "False\n",
      "True\n",
      "(True, 4)\n",
      "(False, 3)\n",
      "(True, 5)\n"
     ]
    }
   ],
   "source": [
    "class Solution:\n",
    "    #def isPerfectSquare(self, num: int) -> bool:\n",
    "    # template #3:\n",
    "    # while loop:        left <= right\n",
    "    # exit condition:    left - 1 == right\n",
    "    # update rule:       left = mid + 1\n",
    "    #                    right = mid - 1\n",
    "    # check point:       none\n",
    "    def isPerfectSquare(self, num):\n",
    "        left, right = 0, num\n",
    "        while left <= right:\n",
    "            mid = left + (right - left) // 2\n",
    "            square = mid * mid\n",
    "            if   square > num: right = mid - 1\n",
    "            elif square < num: left = mid + 1\n",
    "            else: return True\n",
    "        return False\n",
    "        \n",
    "    # Newton's method:\n",
    "    # f(x) = x * x - num\n",
    "    # f'(x) = 2 * x\n",
    "    # exit condition:    f(x_m) <= 0 AND f(x_m+1) > 0\n",
    "    # update rule:       x_m+1 = x_m - f(x_m) / f'(x_m)\n",
    "    # check point:       f(x_m) <= 0 AND f(x_m+1) > 0 \n",
    "    def isPerfectSquare_V2(self, num):\n",
    "        x = 0\n",
    "        f_x_m = - num\n",
    "        f_x_m_1 = 1 - num\n",
    "        f_x_x_m = 0.1 \n",
    "        while f_x_m > 0 or f_x_m_1 < 0: \n",
    "            x = int(x - f_x_m / f_x_x_m)\n",
    "            f_x_m = x * x - num\n",
    "            f_x_m_1 = (x + 1) * (x + 1) - num\n",
    "            f_x_x_m = x * 2 \n",
    "\n",
    "        if f_x_m_1 == 0: \n",
    "            return True#, x + 1\n",
    "        elif f_x_m == 0: \n",
    "            return True#, x\n",
    "        else: \n",
    "            return False\n",
    "        return False\n",
    "\n",
    "    #teacher's solution:\n",
    "    def isPerfectSquare_V3(self, num):\n",
    "        x = num\n",
    "        while x**2 > num:\n",
    "            x = (x + num / x) // 2\n",
    "        return x**2 == num, int(x)\n",
    "       \n",
    "        \n",
    "        \n",
    "        \n",
    "s = Solution()\n",
    "print(s.isPerfectSquare( 16 ))        \n",
    "print(s.isPerfectSquare( 14 ))   \n",
    "print(s.isPerfectSquare( 25 ))   \n",
    "\n",
    "print(s.isPerfectSquare_V2( 16 ))        \n",
    "print(s.isPerfectSquare_V2( 14 ))   \n",
    "print(s.isPerfectSquare_V2( 25 ))\n",
    "\n",
    "print(s.isPerfectSquare_V3( 16 ))        \n",
    "print(s.isPerfectSquare_V3( 14 ))   \n",
    "print(s.isPerfectSquare_V3( 25 ))"
   ]
  },
  {
   "cell_type": "markdown",
   "metadata": {},
   "source": [
    "### 392. Is Subsequence\n",
    "Easy\n",
    "\n",
    "Given a string s and a string t, check if s is subsequence of t.\n",
    "\n",
    "You may assume that there is only lower case English letters in both s and t. t is potentially a very long (length ~= 500,000) string, and s is a short string (<=100).\n",
    "\n",
    "A subsequence of a string is a new string which is formed from the original string by deleting some (can be none) of the characters without disturbing the relative positions of the remaining characters. (ie, \"ace\" is a subsequence of \"abcde\" while \"aec\" is not).\n",
    "\n",
    "Example 1:\n",
    "s = \"abc\", t = \"ahbgdc\"\n",
    "Return true.\n",
    "\n",
    "Example 2:\n",
    "s = \"axc\", t = \"ahbgdc\"\n",
    "Return false.\n",
    "\n",
    "Follow up:\n",
    "If there are lots of incoming S, say S1, S2, ... , Sk where k >= 1B, and you want to check one by one to see if T has its subsequence. In this scenario, how would you change your code?"
   ]
  },
  {
   "cell_type": "code",
   "execution_count": 196,
   "metadata": {},
   "outputs": [
    {
     "name": "stdout",
     "output_type": "stream",
     "text": [
      "True\n",
      "False\n"
     ]
    }
   ],
   "source": [
    "#DP Bottom-up: Time/Space = O(mn)/O(mn)\n",
    "class Solution:\n",
    "    def isSubsequence(self, s, t):\n",
    "        m, n = len(s), len(t)\n",
    "        dp = [[False for j in range(n+1)] for i in range(m+1)]\n",
    "        for i in range (m + 1):\n",
    "            for j in range (n + 1):\n",
    "                if i == 0: dp[i][j] = True\n",
    "                elif j == 0: dp[i][j] = False\n",
    "                else:\n",
    "                    if s[i - 1] == t[j - 1]:\n",
    "                        dp[i][j] = dp[i - 1][j - 1]\n",
    "                    else:\n",
    "                        dp[i][j] = dp[i][j - 1]\n",
    "        return dp[-1][-1]\n",
    "s = Solution()\n",
    "print(s.isSubsequence( \"abc\", \"ahbgdc\"))\n",
    "print(s.isSubsequence( \"axc\", \"ahbgdc\"))        "
   ]
  },
  {
   "cell_type": "code",
   "execution_count": 197,
   "metadata": {},
   "outputs": [
    {
     "name": "stdout",
     "output_type": "stream",
     "text": [
      "True\n",
      "False\n"
     ]
    }
   ],
   "source": [
    "#Two pointer solution: \n",
    "class Solution:\n",
    "    #Time/Space = O(n)/O(1)\n",
    "    def isSubsequence(self, s, t):\n",
    "        i = 0\n",
    "        for j in range(len(t)):\n",
    "            if i == len(s): return True\n",
    "            if s[i] == t[j]: i += 1\n",
    "        return i == len(s)\n",
    "\n",
    "    #Time/Space = O(n)/O(1)\n",
    "    def isSubsequence_2(self, s, t):\n",
    "        pos = -1\n",
    "        for c in s:\n",
    "            pos = t.find(c, pos + 1)\n",
    "            if pos == -1: return False\n",
    "        return True\n",
    "   \n",
    "s = Solution()\n",
    "print(s.isSubsequence( \"abc\", \"ahbgdc\"))\n",
    "print(s.isSubsequence( \"axc\", \"ahbgdc\"))\n",
    "\n",
    "print(s.isSubsequence_2( \"abc\", \"ahbgdc\"))\n",
    "print(s.isSubsequence_2( \"axc\", \"ahbgdc\"))"
   ]
  },
  {
   "cell_type": "code",
   "execution_count": 228,
   "metadata": {},
   "outputs": [
    {
     "name": "stdout",
     "output_type": "stream",
     "text": [
      "True\n",
      "False\n"
     ]
    }
   ],
   "source": [
    "#bisect.bisetc_left: \n",
    "class Solution:\n",
    "    #Time/Space = O(logn)/O(mlogn)\n",
    "    def isSubsequence(self, s, t):\n",
    "        d = collections.defaultdict(list)\n",
    "        for i, c in enumerate (t):\n",
    "            d[c].append(i)\n",
    "        #print (d)\n",
    "        prev = -1\n",
    "        for c in s:\n",
    "            #print(c, len(d[c]), d[c])\n",
    "            pos = bisect.bisect_left(d[c], prev)\n",
    "            #print (d[c], pos)\n",
    "            if pos >= len(d[c]): return False\n",
    "            prev = d[c][pos]\n",
    "            #print (prev)\n",
    "        return True\n",
    "\n",
    "s = Solution()\n",
    "print(s.isSubsequence( \"abc\", \"ahabhgdc\"))\n",
    "print(s.isSubsequence( \"axc\", \"ahabghdcx\"))"
   ]
  },
  {
   "cell_type": "markdown",
   "metadata": {},
   "source": [
    "## MY SOLUTION submitted:"
   ]
  },
  {
   "cell_type": "code",
   "execution_count": 227,
   "metadata": {},
   "outputs": [
    {
     "name": "stdout",
     "output_type": "stream",
     "text": [
      "True\n",
      "False\n"
     ]
    }
   ],
   "source": [
    "#Two pointer solution + FIND: MY SOLUTION submitted.\n",
    "class Solution:\n",
    "    #Time/Space = O(n)/O(1) YES\n",
    "    def isSubsequence(self, s, t):\n",
    "        i, j = 0, 0\n",
    "        len_s = len(s)\n",
    "        len_t = len(t)\n",
    "        if 0 == len_s: return True\n",
    "        while i <= len_s -1 and j <= len_t -1:\n",
    "            #print (i, j, s[i], len_s, len_t)\n",
    "            if i == len_s: return True            \n",
    "            j = t.find(s[i], j)\n",
    "            #print (i, j, s[i], len_s, len_t, t )\n",
    "            if j == -1: return False\n",
    "            else: \n",
    "                i += 1\n",
    "                j += 1\n",
    "        return i == len(s)\n",
    "\n",
    "s = Solution()\n",
    "print(s.isSubsequence( \"abc\", \"ahbgdc\"))\n",
    "print(s.isSubsequence( \"axc\", \"ahbgdc\"))"
   ]
  },
  {
   "cell_type": "code",
   "execution_count": null,
   "metadata": {},
   "outputs": [],
   "source": []
  }
 ],
 "metadata": {
  "kernelspec": {
   "display_name": "Python 3",
   "language": "python",
   "name": "python3"
  },
  "language_info": {
   "codemirror_mode": {
    "name": "ipython",
    "version": 3
   },
   "file_extension": ".py",
   "mimetype": "text/x-python",
   "name": "python",
   "nbconvert_exporter": "python",
   "pygments_lexer": "ipython3",
   "version": "3.7.3"
  }
 },
 "nbformat": 4,
 "nbformat_minor": 2
}
